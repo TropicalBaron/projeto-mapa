{
 "cells": [
  {
   "cell_type": "markdown",
   "id": "b05fd720",
   "metadata": {},
   "source": [
    "# Dependencies\n"
   ]
  },
  {
   "cell_type": "markdown",
   "id": "38ce32a9",
   "metadata": {},
   "source": [
    "## Installation\n"
   ]
  },
  {
   "cell_type": "code",
   "execution_count": null,
   "id": "9309351c",
   "metadata": {},
   "outputs": [],
   "source": [
    "%pip install pip --upgrade -q\n",
    "%pip install pandas -q\n",
    "%pip install numpy -q\n",
    "%pip install matplotlib -q\n",
    "%pip install folium -q\n",
    "%pip install geopy -q\n",
    "%pip install geopandas -q"
   ]
  },
  {
   "cell_type": "markdown",
   "id": "ef03028a",
   "metadata": {},
   "source": [
    "## Importing\n"
   ]
  },
  {
   "cell_type": "code",
   "execution_count": null,
   "id": "fa130247",
   "metadata": {},
   "outputs": [],
   "source": [
    "import pandas as pd\n",
    "import numpy as np\n",
    "import matplotlib.pyplot as plt\n",
    "import folium\n",
    "import geopandas as gpd"
   ]
  },
  {
   "cell_type": "markdown",
   "id": "24c6ff9e",
   "metadata": {},
   "source": [
    "# Loading Data\n"
   ]
  },
  {
   "cell_type": "markdown",
   "id": "bb0b8eaa",
   "metadata": {},
   "source": [
    "## Loading Estimated Population Data\n"
   ]
  },
  {
   "cell_type": "code",
   "execution_count": null,
   "id": "77b29d78",
   "metadata": {},
   "outputs": [],
   "source": [
    "POP_DATA_PATH = \"data/population/tabela6579.csv\" \n",
    "\n",
    "DTYPE = {\"IBGE-code\": str, \"municipality-name\": str, \"population\": int}\n",
    "\n",
    "HEADER_SIZE = 3\n",
    "FOOTER_SIZE = 151\n",
    "\n",
    "pop_data = pd.read_csv(POP_DATA_PATH, sep=\",\", header= HEADER_SIZE, skipfooter=FOOTER_SIZE, engine='python', encoding=\"utf-8\")\n",
    "pop_data.columns = [\"IBGE-code\", \"municipality-name\", \"population\"]\n",
    "pop_data = pop_data.astype(DTYPE)\n"
   ]
  },
  {
   "cell_type": "code",
   "execution_count": null,
   "id": "11b442b9",
   "metadata": {},
   "outputs": [],
   "source": [
    "# show the first 5 rows of the data\n",
    "pop_data.head(5)"
   ]
  },
  {
   "cell_type": "code",
   "execution_count": null,
   "id": "fd2fafa1",
   "metadata": {},
   "outputs": [],
   "source": [
    "# show the last 5 rows of the data\n",
    "pop_data.tail(5)"
   ]
  },
  {
   "cell_type": "code",
   "execution_count": null,
   "id": "f9564d27",
   "metadata": {},
   "outputs": [],
   "source": [
    "# Removing the last digit of the IBGE code, wich is the check digit\n",
    "pop_data[\"IBGE-code\"] = pop_data[\"IBGE-code\"].str[:-1]\n",
    "# show the first 5 rows of the data \n",
    "pop_data.head(5)"
   ]
  },
  {
   "cell_type": "markdown",
   "id": "590b93bd",
   "metadata": {},
   "source": [
    "## Loading Geo and Hospitalizations Data\n"
   ]
  },
  {
   "cell_type": "code",
   "execution_count": null,
   "id": "595e37ec",
   "metadata": {},
   "outputs": [],
   "source": [
    "MUNICIPALITIES_WITH_REPORTS_FILE_PATH = \"data/generated/mixed/municipalities_with_reports_jan2024-dec2024.csv\"\n",
    "\n",
    "DTYPE = {\"IBGE-code\": str}\n",
    "\n",
    "# read the municipalities with reports data\n",
    "municipalities_with_reports = pd.read_csv(MUNICIPALITIES_WITH_REPORTS_FILE_PATH, sep=\";\", encoding=\"utf-8\", dtype=DTYPE)"
   ]
  },
  {
   "cell_type": "code",
   "execution_count": null,
   "id": "14764a8f",
   "metadata": {},
   "outputs": [],
   "source": [
    "# show the first 5 rows of the data\n",
    "municipalities_with_reports.head(5)"
   ]
  },
  {
   "cell_type": "markdown",
   "id": "93921574",
   "metadata": {},
   "source": [
    "# Joining Data\n"
   ]
  },
  {
   "cell_type": "code",
   "execution_count": null,
   "id": "d5dcd742",
   "metadata": {},
   "outputs": [],
   "source": [
    "# Join the two dataframes on the IBGE code\n",
    "RELEVANT_POP_DATA_COLUMNS = [\"IBGE-code\", \"population\"]\n",
    "merged_data = municipalities_with_reports.merge(pop_data[RELEVANT_POP_DATA_COLUMNS], on=\"IBGE-code\", how=\"inner\")\n",
    "# show the first 5 rows of the merged data\n",
    "merged_data.head(5)"
   ]
  },
  {
   "cell_type": "code",
   "execution_count": null,
   "id": "53e0c664",
   "metadata": {},
   "outputs": [],
   "source": [
    "# getting the reason between internacoes and population\n",
    "merged_data[\"internacoes/population\"] = merged_data[\"internacoes\"] / merged_data[\"population\"]\n",
    "# show the first 5 rows of the merged data"
   ]
  },
  {
   "cell_type": "code",
   "execution_count": null,
   "id": "31453904",
   "metadata": {},
   "outputs": [],
   "source": [
    "# saving the merged data to a csv file\n",
    "MERGED_DATA_FILE_PATH = \"data/generated/mixed/municipalities_with_reports_jan2024-dec2024_and_population.csv\"\n",
    "merged_data.to_csv(MERGED_DATA_FILE_PATH, sep=\";\", encoding=\"utf-8\")"
   ]
  },
  {
   "cell_type": "code",
   "execution_count": null,
   "id": "8852c5de",
   "metadata": {},
   "outputs": [],
   "source": [
    "# saving the merged data to a GeoJSON file\n",
    "ESPG_FOR_FOLIUM= \"EPSG:4326\"\n",
    "GEOJSON_FILE_PATH = \"data/generated/mixed/municipalities_with_reports_jan2024-dec2024_and_population.geojson\"\n",
    "GEOJSON_FILE_PROPERTIES = [\"IBGE-code\", \"IBGE-state-code\", \"IBGE-municipality-code\", \"municipality-name\", \"municipality-state\", \"internacoes\", \"population\", \"internacoes/population\"]\n",
    "\n",
    "geojson_file = gpd.GeoDataFrame(\n",
    "    merged_data[GEOJSON_FILE_PROPERTIES], \n",
    "    geometry=gpd.GeoSeries.from_wkt(merged_data[\"geometry\"]),\n",
    "    crs=ESPG_FOR_FOLIUM\n",
    ")\n",
    "\n",
    "geojson_file.to_file(GEOJSON_FILE_PATH, driver=\"GeoJSON\")"
   ]
  },
  {
   "cell_type": "markdown",
   "id": "6968f130",
   "metadata": {},
   "source": [
    "# Generating the Choromap\n"
   ]
  },
  {
   "cell_type": "code",
   "execution_count": null,
   "id": "ae323d96",
   "metadata": {},
   "outputs": [],
   "source": [
    "BRAZILIA_COORDINATES = [-15.7801, -47.9292]\n",
    "m = folium.Map(location=BRAZILIA_COORDINATES, zoom_start=4, control_scale=True, tiles=\"cartodb positron\")\n"
   ]
  },
  {
   "cell_type": "code",
   "execution_count": null,
   "id": "69b93004",
   "metadata": {},
   "outputs": [],
   "source": [
    "# adding municipalities with no reports\n",
    "MUNICIPALITIES_WITHOUT_REPORTS_FILE_PATH = \"data/generated/mixed/municipalities_without_reports_jan2024-dec2024.csv\"\n",
    "municipalities_without_reports = pd.read_csv(\n",
    "    MUNICIPALITIES_WITHOUT_REPORTS_FILE_PATH, \n",
    "    sep=\";\", \n",
    "    encoding=\"utf-8\", \n",
    "    dtype=DTYPE\n",
    ")\n",
    "\n",
    "municipalities_without_reports = gpd.GeoDataFrame(\n",
    "    municipalities_without_reports.drop(columns=[\"geometry\"]),\n",
    "    geometry=gpd.GeoSeries.from_wkt(municipalities_without_reports[\"geometry\"]),\n",
    "    crs=ESPG_FOR_FOLIUM\n",
    ")\n",
    "\n",
    "municipalities_without_reports.head(5)\n",
    "\n",
    "folium.GeoJson(\n",
    "    municipalities_without_reports,\n",
    "    name=\"Municipalities without reports\",\n",
    "    style_function=lambda x: {\n",
    "        \"fillColor\": \"gray\",\n",
    "        \"color\": \"black\",\n",
    "        \"weight\": 0.5,\n",
    "        \"fillOpacity\": 0.5,\n",
    "    },\n",
    "    tooltip=folium.GeoJsonTooltip(\n",
    "        fields=[\"IBGE-code\", \"municipality-name\", \"municipality-state\"],\n",
    "        aliases=[\"IBGE Code\", \"Municipality Name\", \"State\"],\n",
    "        localize=True,\n",
    "    ),\n",
    ").add_to(m)"
   ]
  },
  {
   "cell_type": "code",
   "execution_count": null,
   "id": "3eb07ac5",
   "metadata": {},
   "outputs": [],
   "source": [
    "# adding the choropleth layer to the map\n",
    "geo_data = gpd.read_file(GEOJSON_FILE_PATH)\n",
    "geo_data_simplified = gpd.GeoDataFrame(\n",
    "    data=geo_data.copy().drop(columns=\"geometry\"),\n",
    "    crs=geo_data.crs,\n",
    "    geometry=geo_data[\"geometry\"].copy().simplify(tolerance=0.1, preserve_topology=True)\n",
    ")\n",
    "\n",
    "folium.Choropleth(\n",
    "    name=\"Hospitalizations per number of inhabitants\",\n",
    "    geo_data= geo_data,\n",
    "    data = geo_data,\n",
    "    columns=[\"IBGE-code\", \"internacoes/population\"],\n",
    "    key_on=\"feature.properties.IBGE-code\",\n",
    "    fill_color=\"YlOrRd\",\n",
    "    fill_opacity=0.7,\n",
    "    line_opacity=0.2,\n",
    "    legend_name=\"Hospitalizations per number of inhabitants\",\n",
    "    highlight=True,\n",
    ").add_to(m)"
   ]
  },
  {
   "cell_type": "code",
   "execution_count": null,
   "id": "52f0174d",
   "metadata": {},
   "outputs": [],
   "source": [
    "# add transparent layer to show tooltip\n",
    "folium.GeoJson(\n",
    "    geo_data_simplified,\n",
    "    name = \"TRANSPARENT\",\n",
    "    control=True,\n",
    "    show=True,\n",
    "    overlay=True,\n",
    "    popup=\"dfsdsdf\",\n",
    "    popup_keep_highlighted=False,\n",
    "    style_function=lambda x: {\n",
    "        \"fillOpacity\": 0,\n",
    "        \"color\": \"black\",\n",
    "        \"weight\": 0,\n",
    "\n",
    "    },\n",
    "    highlight_function=lambda x: {'weight': 3, 'color': '#00000000'},\n",
    "    tooltip=folium.GeoJsonTooltip(\n",
    "        fields=[\"IBGE-code\", \"IBGE-state-code\", \"IBGE-municipality-code\", \"municipality-state\", \"municipality-name\", \"internacoes\"],\n",
    "        aliases=[\"IBGE code\", \"IBGE state code\", \"IBGE municipality code\", \"Municipality state\", \"Municipality name\" , \"Internacoes\"],\n",
    "        localize=False,\n",
    "        sticky=False,\n",
    "        labels=True,\n",
    "        style=\"background-color: white; color: black; font-family: Arial; font-size: 12px; padding: 5px;\",\n",
    "    ),\n",
    ").add_to(m)"
   ]
  },
  {
   "cell_type": "code",
   "execution_count": null,
   "id": "82f259ef",
   "metadata": {},
   "outputs": [],
   "source": [
    "# Preview the map\n",
    "# m"
   ]
  },
  {
   "cell_type": "code",
   "execution_count": null,
   "id": "db2c052a",
   "metadata": {},
   "outputs": [],
   "source": [
    "# Saving the map to an HTML file\n",
    "MAP_FILE_PATH = \"maps/cases_by_municipality_pop_jan2024-dez2024.html\"\n",
    "m.save(MAP_FILE_PATH)"
   ]
  }
 ],
 "metadata": {
  "kernelspec": {
   "display_name": "Python 3",
   "language": "python",
   "name": "python3"
  },
  "language_info": {
   "codemirror_mode": {
    "name": "ipython",
    "version": 3
   },
   "file_extension": ".py",
   "mimetype": "text/x-python",
   "name": "python",
   "nbconvert_exporter": "python",
   "pygments_lexer": "ipython3",
   "version": "3.13.3"
  }
 },
 "nbformat": 4,
 "nbformat_minor": 5
}
