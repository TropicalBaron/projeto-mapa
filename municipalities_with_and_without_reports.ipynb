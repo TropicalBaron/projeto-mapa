{
 "cells": [
  {
   "cell_type": "markdown",
   "id": "71ed5a08",
   "metadata": {},
   "source": [
    "# Dependencies"
   ]
  },
  {
   "cell_type": "markdown",
   "id": "e3582a7d",
   "metadata": {},
   "source": [
    "## Installation"
   ]
  },
  {
   "cell_type": "code",
   "execution_count": null,
   "id": "cdd3d118",
   "metadata": {},
   "outputs": [],
   "source": [
    "%pip install pip --upgrade -q\n",
    "%pip install pandas -q\n",
    "%pip install numpy -q\n",
    "%pip install matplotlib -q\n",
    "%pip install folium -q\n",
    "%pip install geopy -q\n",
    "%pip install geopandas -q"
   ]
  },
  {
   "cell_type": "markdown",
   "id": "bd97600e",
   "metadata": {},
   "source": [
    "## Importing"
   ]
  },
  {
   "cell_type": "code",
   "execution_count": null,
   "id": "a6d69cef",
   "metadata": {},
   "outputs": [],
   "source": [
    "import pandas as pd\n",
    "import numpy as np\n",
    "import matplotlib.pyplot as plt\n",
    "import folium\n",
    "import geopandas as gpd"
   ]
  },
  {
   "cell_type": "markdown",
   "id": "87ddc648",
   "metadata": {},
   "source": [
    "# Loading Data"
   ]
  },
  {
   "cell_type": "code",
   "execution_count": null,
   "id": "c0ddd744",
   "metadata": {},
   "outputs": [],
   "source": [
    "DTYPE = {\n",
    "    \"IBGE-code\": str, \n",
    "    \"IBGE-state-code\": str, \n",
    "    \"IBGE-municipality-code\": str,\n",
    "}\n",
    "\n",
    "GEO_DATA_PATH = \"./data/generated/geo/municipalities_geodata.geojson\"\n",
    "SUS_DATA = \"./data/generated/sus/mental_diseases_jan2024-dec2024.csv\""
   ]
  },
  {
   "cell_type": "code",
   "execution_count": null,
   "id": "155c8ea7",
   "metadata": {},
   "outputs": [],
   "source": [
    "from numpy import dtype\n",
    "\n",
    "geo_data = gpd.read_file(GEO_DATA_PATH, encoding=\"utf-8\")\n",
    "sus_data = pd.read_csv(SUS_DATA, encoding=\"utf-8\", sep=\";\", dtype=DTYPE)"
   ]
  },
  {
   "cell_type": "code",
   "execution_count": null,
   "id": "1f960306",
   "metadata": {},
   "outputs": [],
   "source": [
    "# GeoJson dont accept dtype \"object\" in columns with numbers, so we need to convert them to str\n",
    "geo_data[\"IBGE-code\"] = geo_data[\"IBGE-code\"].astype(str)\n",
    "geo_data[\"IBGE-state-code\"] = geo_data[\"IBGE-state-code\"].astype(str)\n",
    "geo_data[\"IBGE-municipality-code\"] = geo_data[\"IBGE-municipality-code\"].astype(str)"
   ]
  },
  {
   "cell_type": "code",
   "execution_count": null,
   "id": "804dc00f",
   "metadata": {},
   "outputs": [],
   "source": [
    "# Display the first few rows of the GeoDataFrame\n",
    "geo_data.head(5)"
   ]
  },
  {
   "cell_type": "code",
   "execution_count": null,
   "id": "81f65007",
   "metadata": {},
   "outputs": [],
   "source": [
    "# Display the first few rows of the Sus_data DataFrame\n",
    "sus_data.head(5)"
   ]
  },
  {
   "cell_type": "markdown",
   "id": "b9e3285a",
   "metadata": {},
   "source": [
    "# Joining Data"
   ]
  },
  {
   "cell_type": "code",
   "execution_count": null,
   "id": "c3ffd861",
   "metadata": {},
   "outputs": [],
   "source": [
    "# Joining the SUS data with the geographical data to get the municipalities with reports\n",
    "municipalities_with_reports = geo_data.merge(sus_data, how=\"inner\", on=[\"IBGE-code\", \"IBGE-state-code\", \"IBGE-municipality-code\"])\n",
    "municipalities_with_reports = gpd.GeoDataFrame(\n",
    "    municipalities_with_reports[[\"IBGE-code\", \"IBGE-state-code\", \"IBGE-municipality-code\", \"municipality-name\", \"municipality-state\", \"internacoes\"]],\n",
    "    geometry=municipalities_with_reports[\"geometry\"],\n",
    ")\n",
    "municipalities_with_reports.head(5)"
   ]
  },
  {
   "cell_type": "code",
   "execution_count": null,
   "id": "f3ee2d7b",
   "metadata": {},
   "outputs": [],
   "source": [
    "# Joining the SUS data with the geographical data to get the municipalities without reports\n",
    "municipalities_without_reports = geo_data.copy()\n",
    "\n",
    "municipalities_without_reports = municipalities_without_reports.merge(sus_data, how=\"left\", on=[\"IBGE-code\", \"IBGE-state-code\", \"IBGE-municipality-code\"])\n",
    "municipalities_without_reports = municipalities_without_reports[municipalities_without_reports[\"internacoes\"].isna()]\n",
    "municipalities_without_reports = municipalities_without_reports.drop(columns=[\"internacoes\"])\n",
    "municipalities_without_reports.head(5)"
   ]
  },
  {
   "cell_type": "code",
   "execution_count": null,
   "id": "e351dbdb",
   "metadata": {},
   "outputs": [],
   "source": [
    "# Saving the dataframes\n",
    "MUNICIPALITIES_WITH_REPORTS_FILE_PATH = \"./data/generated/mixed/municipalities_with_reports_jan2024-dec2024.csv\"\n",
    "MUNICIPALITIES_WITHOUT_REPORTS_FILE_PATH = \"./data/generated/mixed/municipalities_without_reports_jan2024-dec2024.csv\"\n",
    "municipalities_with_reports.to_csv(MUNICIPALITIES_WITH_REPORTS_FILE_PATH, sep=\";\", index=False, encoding=\"utf-8\")\n",
    "municipalities_without_reports.to_csv(MUNICIPALITIES_WITHOUT_REPORTS_FILE_PATH, sep=\";\", index=False, encoding=\"utf-8\")\n",
    "\n"
   ]
  },
  {
   "cell_type": "markdown",
   "id": "ba586e4f",
   "metadata": {},
   "source": [
    "# Generating Map"
   ]
  },
  {
   "cell_type": "code",
   "execution_count": null,
   "id": "eaf8e3cb",
   "metadata": {},
   "outputs": [],
   "source": [
    "BRAZILIA_CORDINATES = [-15.7801, -47.9292]\n",
    "m = folium.Map(location=BRAZILIA_CORDINATES, zoom_start=4, tiles='cartodb positron',)"
   ]
  },
  {
   "cell_type": "code",
   "execution_count": null,
   "id": "28079bb5",
   "metadata": {},
   "outputs": [],
   "source": [
    "# All municipalities in Brazil\n",
    "folium.GeoJson(\n",
    "    geo_data,\n",
    "    name=\"All Municipalities\",\n",
    "    style_function=lambda x: {\n",
    "        \"color\": \"black\",\n",
    "        \"weight\": 1,\n",
    "        \"fillOpacity\": 1,\n",
    "        \"fillColor\": \"white\",\n",
    "    },\n",
    "    tooltip=folium.GeoJsonTooltip(\n",
    "        fields=[\"IBGE-code\", \"IBGE-state-code\", \"IBGE-municipality-code\", \"municipality-state\", \"municipality-name\"],\n",
    "        aliases=[\"IBGE code\", \"IBGE state code\", \"IBGE municipality code\", \"Municipality state\", \"Municipality name\"],\n",
    "        localize=True,\n",
    "        sticky=False,\n",
    "        labels=True,\n",
    "        style=\"background-color: white; color: black; font-family: Arial; font-size: 12px; padding: 5px;\",\n",
    "    ),\n",
    ").add_to(m)\n"
   ]
  },
  {
   "cell_type": "code",
   "execution_count": null,
   "id": "356a5c28",
   "metadata": {},
   "outputs": [],
   "source": [
    "# Municipalities without reports\n",
    "folium.GeoJson(\n",
    "    municipalities_without_reports,\n",
    "    name=\"Municipalities without reports\",\n",
    "    style_function=lambda x: {\n",
    "        \"color\": \"black\",\n",
    "        \"weight\": 1,\n",
    "        \"fillOpacity\": 1,\n",
    "        \"fillColor\": \"red\",\n",
    "    },\n",
    "    tooltip=folium.GeoJsonTooltip(\n",
    "        fields=[\"IBGE-code\", \"IBGE-state-code\", \"IBGE-municipality-code\", \"municipality-state\", \"municipality-name\"],\n",
    "        aliases=[\"IBGE code\", \"IBGE state code\", \"IBGE municipality code\", \"Municipality state\", \"Municipality name\"],\n",
    "        localize=True,\n",
    "        sticky=False,\n",
    "        labels=True,\n",
    "        style=\"background-color: white; color: black; font-family: Arial; font-size: 12px; padding: 5px;\",\n",
    "    ),\n",
    ").add_to(m)"
   ]
  },
  {
   "cell_type": "code",
   "execution_count": null,
   "id": "60e5a8e8",
   "metadata": {},
   "outputs": [],
   "source": [
    "# Municipalities with reports\n",
    "folium.GeoJson(\n",
    "    municipalities_with_reports,\n",
    "    name=\"Municipalities with reports\",\n",
    "    style_function=lambda x: {\n",
    "        \"color\": \"black\",\n",
    "        \"weight\": 1,\n",
    "        \"fillOpacity\": 1,\n",
    "        \"fillColor\": \"green\",\n",
    "    },\n",
    "    tooltip=folium.GeoJsonTooltip(\n",
    "        fields=[\"IBGE-code\", \"IBGE-state-code\", \"IBGE-municipality-code\", \"municipality-state\", \"municipality-name\", \"internacoes\"],\n",
    "        aliases=[\"IBGE code\", \"IBGE state code\", \"IBGE municipality code\", \"Municipality state\", \"Municipality name\" , \"Internacoes\"],\n",
    "        localize=True,\n",
    "        sticky=False,\n",
    "        labels=True,\n",
    "        style=\"background-color: white; color: black; font-family: Arial; font-size: 12px; padding: 5px;\",\n",
    "    ),\n",
    "    \n",
    "\n",
    ").add_to(m)"
   ]
  },
  {
   "cell_type": "code",
   "execution_count": null,
   "id": "bcb1b86d",
   "metadata": {},
   "outputs": [],
   "source": [
    "folium.LayerControl().add_to(m)\n",
    "m"
   ]
  },
  {
   "cell_type": "code",
   "execution_count": null,
   "id": "6a1bd917",
   "metadata": {},
   "outputs": [],
   "source": [
    "BRAZILIA_CORDINATES = [-15.7801, -47.9292]\n",
    "m = folium.Map(location=BRAZILIA_CORDINATES, zoom_start=4, tiles='cartodb positron')"
   ]
  },
  {
   "cell_type": "code",
   "execution_count": null,
   "id": "c7ed6159",
   "metadata": {},
   "outputs": [],
   "source": [
    "# Adding a choropleth map to show the number of reports in each municipality\n",
    "\n",
    "\n",
    "\n",
    "folium.Choropleth(\n",
    "    name =\"Municipalities with reports - Hospitalizations\",\n",
    "    geo_data=geo_data,\n",
    "    data=municipalities_with_reports,\n",
    "    columns=[\"IBGE-code\", \"internacoes\"],\n",
    "    key_on=\"feature.properties.IBGE-code\",\n",
    "    fill_color=\"YlGn\",\n",
    "    fill_opacity=0.7,\n",
    "    line_opacity=0.2,\n",
    "    legend_name=\"Internações\",\n",
    "    # tooltip=folium.features.properties.GeoJsonTooltip(\n",
    "    #     fields=[\"IBGE-code\", \"IBGE-state-code\", \"IBGE-municipality-code\", \"municipality-state\", \"municipality-name\", \"internacoes\"],\n",
    "    #     # aliases=[\"IBGE code\", \"IBGE state code\", \"IBGE municipality code\", \"Municipality state\", \"Municipality name\" , \"Internacoes\"],\n",
    "    #     # localize=True,\n",
    "    #     # sticky=False,\n",
    "    #     # labels=True,\n",
    "    #     # style=\"background-color: white; color: black; font-family: Arial; font-size: 12px; padding: 5px;\",\n",
    "    # ),\n",
    "    tooltip = folium.Tooltip(\"teste\")\n",
    ").add_to(m)"
   ]
  },
  {
   "cell_type": "code",
   "execution_count": null,
   "id": "5167094b",
   "metadata": {},
   "outputs": [],
   "source": [
    "m"
   ]
  },
  {
   "cell_type": "markdown",
   "id": "d467a7d2",
   "metadata": {},
   "source": [
    "# Testing"
   ]
  },
  {
   "cell_type": "code",
   "execution_count": null,
   "id": "d167e792",
   "metadata": {},
   "outputs": [],
   "source": [
    "# Display the number of municipalities with reports and without reports\n",
    "print(f\"Municipalities with reports: {len(municipalities_with_reports)}\")\n",
    "print(f\"Municipalities without reports: {len(municipalities_without_reports)}\")\n",
    "# Display the total number of municipalities in Brazil\n",
    "print(f\"Total municipalities in Brazil: {len(geo_data)}\")\n",
    "print(f\"Total municipalities with reports: {len(municipalities_with_reports)}\")\n",
    "print(f\"Total municipalities without reports: {len(municipalities_without_reports)}\")\n"
   ]
  }
 ],
 "metadata": {
  "kernelspec": {
   "display_name": "Python 3",
   "language": "python",
   "name": "python3"
  },
  "language_info": {
   "codemirror_mode": {
    "name": "ipython",
    "version": 3
   },
   "file_extension": ".py",
   "mimetype": "text/x-python",
   "name": "python",
   "nbconvert_exporter": "python",
   "pygments_lexer": "ipython3",
   "version": "3.13.3"
  }
 },
 "nbformat": 4,
 "nbformat_minor": 5
}
