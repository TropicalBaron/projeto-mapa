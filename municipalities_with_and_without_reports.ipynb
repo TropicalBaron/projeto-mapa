{
 "cells": [
  {
   "cell_type": "markdown",
   "id": "71ed5a08",
   "metadata": {},
   "source": [
    "# Dependencies\n"
   ]
  },
  {
   "cell_type": "markdown",
   "id": "e3582a7d",
   "metadata": {},
   "source": [
    "## Installation\n"
   ]
  },
  {
   "cell_type": "code",
   "execution_count": 1,
   "id": "cdd3d118",
   "metadata": {},
   "outputs": [
    {
     "name": "stdout",
     "output_type": "stream",
     "text": [
      "Note: you may need to restart the kernel to use updated packages.\n",
      "Note: you may need to restart the kernel to use updated packages.\n",
      "Note: you may need to restart the kernel to use updated packages.\n",
      "Note: you may need to restart the kernel to use updated packages.\n",
      "Note: you may need to restart the kernel to use updated packages.\n",
      "Note: you may need to restart the kernel to use updated packages.\n",
      "Note: you may need to restart the kernel to use updated packages.\n"
     ]
    }
   ],
   "source": [
    "%pip install pip --upgrade -q\n",
    "%pip install pandas -q\n",
    "%pip install numpy -q\n",
    "%pip install matplotlib -q\n",
    "%pip install folium -q\n",
    "%pip install geopy -q\n",
    "%pip install geopandas -q\n"
   ]
  },
  {
   "cell_type": "markdown",
   "id": "bd97600e",
   "metadata": {},
   "source": [
    "## Importing\n"
   ]
  },
  {
   "cell_type": "code",
   "execution_count": 2,
   "id": "a6d69cef",
   "metadata": {},
   "outputs": [],
   "source": [
    "import pandas as pd\n",
    "import numpy as np\n",
    "import matplotlib.pyplot as plt\n",
    "import folium\n",
    "import geopandas as gpd"
   ]
  },
  {
   "cell_type": "markdown",
   "id": "87ddc648",
   "metadata": {},
   "source": [
    "# Loading Data\n"
   ]
  },
  {
   "cell_type": "code",
   "execution_count": 3,
   "id": "c0ddd744",
   "metadata": {},
   "outputs": [],
   "source": [
    "DTYPE = {\n",
    "    \"IBGE-code\": str, \n",
    "    \"IBGE-state-code\": str, \n",
    "    \"IBGE-municipality-code\": str,\n",
    "}\n",
    "\n",
    "GEO_DATA_PATH = \"./data/generated/geo/municipalities_geodata.geojson\"\n",
    "SUS_DATA = \"./data/generated/sus/mental_diseases_jan2024-dec2024.csv\""
   ]
  },
  {
   "cell_type": "code",
   "execution_count": 4,
   "id": "155c8ea7",
   "metadata": {},
   "outputs": [],
   "source": [
    "from numpy import dtype\n",
    "\n",
    "geo_data = gpd.read_file(GEO_DATA_PATH, encoding=\"utf-8\")\n",
    "sus_data = pd.read_csv(SUS_DATA, encoding=\"utf-8\", sep=\";\", dtype=DTYPE)"
   ]
  },
  {
   "cell_type": "code",
   "execution_count": 5,
   "id": "1f960306",
   "metadata": {},
   "outputs": [],
   "source": [
    "# GeoJson dont accept dtype \"object\" in columns with numbers, so we need to convert them to str\n",
    "geo_data[\"IBGE-code\"] = geo_data[\"IBGE-code\"].astype(str)\n",
    "geo_data[\"IBGE-state-code\"] = geo_data[\"IBGE-state-code\"].astype(str)\n",
    "geo_data[\"IBGE-municipality-code\"] = geo_data[\"IBGE-municipality-code\"].astype(str)"
   ]
  },
  {
   "cell_type": "code",
   "execution_count": 6,
   "id": "804dc00f",
   "metadata": {},
   "outputs": [
    {
     "data": {
      "text/html": [
       "<div>\n",
       "<style scoped>\n",
       "    .dataframe tbody tr th:only-of-type {\n",
       "        vertical-align: middle;\n",
       "    }\n",
       "\n",
       "    .dataframe tbody tr th {\n",
       "        vertical-align: top;\n",
       "    }\n",
       "\n",
       "    .dataframe thead th {\n",
       "        text-align: right;\n",
       "    }\n",
       "</style>\n",
       "<table border=\"1\" class=\"dataframe\">\n",
       "  <thead>\n",
       "    <tr style=\"text-align: right;\">\n",
       "      <th></th>\n",
       "      <th>IBGE-code</th>\n",
       "      <th>IBGE-state-code</th>\n",
       "      <th>IBGE-municipality-code</th>\n",
       "      <th>municipality-state</th>\n",
       "      <th>municipality-name</th>\n",
       "      <th>latitude</th>\n",
       "      <th>longitude</th>\n",
       "      <th>geometry</th>\n",
       "    </tr>\n",
       "  </thead>\n",
       "  <tbody>\n",
       "    <tr>\n",
       "      <th>0</th>\n",
       "      <td>110001</td>\n",
       "      <td>11</td>\n",
       "      <td>0001</td>\n",
       "      <td>Rondônia</td>\n",
       "      <td>Alta Floresta D'Oeste</td>\n",
       "      <td>-62.27466099683791</td>\n",
       "      <td>-12.470132272726424</td>\n",
       "      <td>POLYGON ((-61.93075 -11.97349, -61.9332 -11.97...</td>\n",
       "    </tr>\n",
       "    <tr>\n",
       "      <th>1</th>\n",
       "      <td>110002</td>\n",
       "      <td>11</td>\n",
       "      <td>0002</td>\n",
       "      <td>Rondônia</td>\n",
       "      <td>Ariquemes</td>\n",
       "      <td>-62.95724463217704</td>\n",
       "      <td>-9.95188002813111</td>\n",
       "      <td>POLYGON ((-63.17933 -10.13924, -63.17237 -10.1...</td>\n",
       "    </tr>\n",
       "    <tr>\n",
       "      <th>2</th>\n",
       "      <td>110003</td>\n",
       "      <td>11</td>\n",
       "      <td>0003</td>\n",
       "      <td>Rondônia</td>\n",
       "      <td>Cabixi</td>\n",
       "      <td>-60.63980722186971</td>\n",
       "      <td>-13.474878560170035</td>\n",
       "      <td>POLYGON ((-60.56035 -13.32206, -60.37162 -13.3...</td>\n",
       "    </tr>\n",
       "    <tr>\n",
       "      <th>3</th>\n",
       "      <td>110004</td>\n",
       "      <td>11</td>\n",
       "      <td>0004</td>\n",
       "      <td>Rondônia</td>\n",
       "      <td>Cacoal</td>\n",
       "      <td>-61.32472873458685</td>\n",
       "      <td>-11.301287369709485</td>\n",
       "      <td>POLYGON ((-61.00075 -11.25298, -61.00103 -11.3...</td>\n",
       "    </tr>\n",
       "    <tr>\n",
       "      <th>4</th>\n",
       "      <td>110005</td>\n",
       "      <td>11</td>\n",
       "      <td>0005</td>\n",
       "      <td>Rondônia</td>\n",
       "      <td>Cerejeiras</td>\n",
       "      <td>-61.26095018379903</td>\n",
       "      <td>-13.203561520699402</td>\n",
       "      <td>POLYGON ((-60.82068 -13.11944, -60.81773 -13.1...</td>\n",
       "    </tr>\n",
       "  </tbody>\n",
       "</table>\n",
       "</div>"
      ],
      "text/plain": [
       "  IBGE-code IBGE-state-code IBGE-municipality-code municipality-state  \\\n",
       "0    110001              11                   0001           Rondônia   \n",
       "1    110002              11                   0002           Rondônia   \n",
       "2    110003              11                   0003           Rondônia   \n",
       "3    110004              11                   0004           Rondônia   \n",
       "4    110005              11                   0005           Rondônia   \n",
       "\n",
       "       municipality-name            latitude            longitude  \\\n",
       "0  Alta Floresta D'Oeste  -62.27466099683791  -12.470132272726424   \n",
       "1              Ariquemes  -62.95724463217704    -9.95188002813111   \n",
       "2                 Cabixi  -60.63980722186971  -13.474878560170035   \n",
       "3                 Cacoal  -61.32472873458685  -11.301287369709485   \n",
       "4             Cerejeiras  -61.26095018379903  -13.203561520699402   \n",
       "\n",
       "                                            geometry  \n",
       "0  POLYGON ((-61.93075 -11.97349, -61.9332 -11.97...  \n",
       "1  POLYGON ((-63.17933 -10.13924, -63.17237 -10.1...  \n",
       "2  POLYGON ((-60.56035 -13.32206, -60.37162 -13.3...  \n",
       "3  POLYGON ((-61.00075 -11.25298, -61.00103 -11.3...  \n",
       "4  POLYGON ((-60.82068 -13.11944, -60.81773 -13.1...  "
      ]
     },
     "execution_count": 6,
     "metadata": {},
     "output_type": "execute_result"
    }
   ],
   "source": [
    "# Display the first few rows of the GeoDataFrame\n",
    "geo_data.head(5)"
   ]
  },
  {
   "cell_type": "code",
   "execution_count": 7,
   "id": "81f65007",
   "metadata": {},
   "outputs": [
    {
     "data": {
      "text/html": [
       "<div>\n",
       "<style scoped>\n",
       "    .dataframe tbody tr th:only-of-type {\n",
       "        vertical-align: middle;\n",
       "    }\n",
       "\n",
       "    .dataframe tbody tr th {\n",
       "        vertical-align: top;\n",
       "    }\n",
       "\n",
       "    .dataframe thead th {\n",
       "        text-align: right;\n",
       "    }\n",
       "</style>\n",
       "<table border=\"1\" class=\"dataframe\">\n",
       "  <thead>\n",
       "    <tr style=\"text-align: right;\">\n",
       "      <th></th>\n",
       "      <th>IBGE-code</th>\n",
       "      <th>IBGE-state-code</th>\n",
       "      <th>IBGE-municipality-code</th>\n",
       "      <th>internacoes</th>\n",
       "    </tr>\n",
       "  </thead>\n",
       "  <tbody>\n",
       "    <tr>\n",
       "      <th>0</th>\n",
       "      <td>110001</td>\n",
       "      <td>11</td>\n",
       "      <td>0001</td>\n",
       "      <td>54</td>\n",
       "    </tr>\n",
       "    <tr>\n",
       "      <th>1</th>\n",
       "      <td>110002</td>\n",
       "      <td>11</td>\n",
       "      <td>0002</td>\n",
       "      <td>14</td>\n",
       "    </tr>\n",
       "    <tr>\n",
       "      <th>2</th>\n",
       "      <td>110004</td>\n",
       "      <td>11</td>\n",
       "      <td>0004</td>\n",
       "      <td>48</td>\n",
       "    </tr>\n",
       "    <tr>\n",
       "      <th>3</th>\n",
       "      <td>110006</td>\n",
       "      <td>11</td>\n",
       "      <td>0006</td>\n",
       "      <td>2</td>\n",
       "    </tr>\n",
       "    <tr>\n",
       "      <th>4</th>\n",
       "      <td>110009</td>\n",
       "      <td>11</td>\n",
       "      <td>0009</td>\n",
       "      <td>1</td>\n",
       "    </tr>\n",
       "  </tbody>\n",
       "</table>\n",
       "</div>"
      ],
      "text/plain": [
       "  IBGE-code IBGE-state-code IBGE-municipality-code  internacoes\n",
       "0    110001              11                   0001           54\n",
       "1    110002              11                   0002           14\n",
       "2    110004              11                   0004           48\n",
       "3    110006              11                   0006            2\n",
       "4    110009              11                   0009            1"
      ]
     },
     "execution_count": 7,
     "metadata": {},
     "output_type": "execute_result"
    }
   ],
   "source": [
    "# Display the first few rows of the Sus_data DataFrame\n",
    "sus_data.head(5)"
   ]
  },
  {
   "cell_type": "markdown",
   "id": "b9e3285a",
   "metadata": {},
   "source": [
    "# Joining Data\n"
   ]
  },
  {
   "cell_type": "code",
   "execution_count": 8,
   "id": "c3ffd861",
   "metadata": {},
   "outputs": [
    {
     "data": {
      "text/html": [
       "<div>\n",
       "<style scoped>\n",
       "    .dataframe tbody tr th:only-of-type {\n",
       "        vertical-align: middle;\n",
       "    }\n",
       "\n",
       "    .dataframe tbody tr th {\n",
       "        vertical-align: top;\n",
       "    }\n",
       "\n",
       "    .dataframe thead th {\n",
       "        text-align: right;\n",
       "    }\n",
       "</style>\n",
       "<table border=\"1\" class=\"dataframe\">\n",
       "  <thead>\n",
       "    <tr style=\"text-align: right;\">\n",
       "      <th></th>\n",
       "      <th>IBGE-code</th>\n",
       "      <th>IBGE-state-code</th>\n",
       "      <th>IBGE-municipality-code</th>\n",
       "      <th>municipality-name</th>\n",
       "      <th>municipality-state</th>\n",
       "      <th>internacoes</th>\n",
       "      <th>geometry</th>\n",
       "    </tr>\n",
       "  </thead>\n",
       "  <tbody>\n",
       "    <tr>\n",
       "      <th>0</th>\n",
       "      <td>110001</td>\n",
       "      <td>11</td>\n",
       "      <td>0001</td>\n",
       "      <td>Alta Floresta D'Oeste</td>\n",
       "      <td>Rondônia</td>\n",
       "      <td>54</td>\n",
       "      <td>POLYGON ((-61.93075 -11.97349, -61.9332 -11.97...</td>\n",
       "    </tr>\n",
       "    <tr>\n",
       "      <th>1</th>\n",
       "      <td>110002</td>\n",
       "      <td>11</td>\n",
       "      <td>0002</td>\n",
       "      <td>Ariquemes</td>\n",
       "      <td>Rondônia</td>\n",
       "      <td>14</td>\n",
       "      <td>POLYGON ((-63.17933 -10.13924, -63.17237 -10.1...</td>\n",
       "    </tr>\n",
       "    <tr>\n",
       "      <th>2</th>\n",
       "      <td>110004</td>\n",
       "      <td>11</td>\n",
       "      <td>0004</td>\n",
       "      <td>Cacoal</td>\n",
       "      <td>Rondônia</td>\n",
       "      <td>48</td>\n",
       "      <td>POLYGON ((-61.00075 -11.25298, -61.00103 -11.3...</td>\n",
       "    </tr>\n",
       "    <tr>\n",
       "      <th>3</th>\n",
       "      <td>110006</td>\n",
       "      <td>11</td>\n",
       "      <td>0006</td>\n",
       "      <td>Colorado do Oeste</td>\n",
       "      <td>Rondônia</td>\n",
       "      <td>2</td>\n",
       "      <td>POLYGON ((-60.41495 -13.04076, -60.41593 -13.0...</td>\n",
       "    </tr>\n",
       "    <tr>\n",
       "      <th>4</th>\n",
       "      <td>110009</td>\n",
       "      <td>11</td>\n",
       "      <td>0009</td>\n",
       "      <td>Espigão D'Oeste</td>\n",
       "      <td>Rondônia</td>\n",
       "      <td>1</td>\n",
       "      <td>POLYGON ((-61.07244 -11.63551, -61.21172 -11.5...</td>\n",
       "    </tr>\n",
       "  </tbody>\n",
       "</table>\n",
       "</div>"
      ],
      "text/plain": [
       "  IBGE-code IBGE-state-code IBGE-municipality-code      municipality-name  \\\n",
       "0    110001              11                   0001  Alta Floresta D'Oeste   \n",
       "1    110002              11                   0002              Ariquemes   \n",
       "2    110004              11                   0004                 Cacoal   \n",
       "3    110006              11                   0006      Colorado do Oeste   \n",
       "4    110009              11                   0009        Espigão D'Oeste   \n",
       "\n",
       "  municipality-state  internacoes  \\\n",
       "0           Rondônia           54   \n",
       "1           Rondônia           14   \n",
       "2           Rondônia           48   \n",
       "3           Rondônia            2   \n",
       "4           Rondônia            1   \n",
       "\n",
       "                                            geometry  \n",
       "0  POLYGON ((-61.93075 -11.97349, -61.9332 -11.97...  \n",
       "1  POLYGON ((-63.17933 -10.13924, -63.17237 -10.1...  \n",
       "2  POLYGON ((-61.00075 -11.25298, -61.00103 -11.3...  \n",
       "3  POLYGON ((-60.41495 -13.04076, -60.41593 -13.0...  \n",
       "4  POLYGON ((-61.07244 -11.63551, -61.21172 -11.5...  "
      ]
     },
     "execution_count": 8,
     "metadata": {},
     "output_type": "execute_result"
    }
   ],
   "source": [
    "# Joining the SUS data with the geographical data to get the municipalities with reports\n",
    "municipalities_with_reports = geo_data.merge(sus_data, how=\"inner\", on=[\"IBGE-code\", \"IBGE-state-code\", \"IBGE-municipality-code\"])\n",
    "municipalities_with_reports = gpd.GeoDataFrame(\n",
    "    municipalities_with_reports[[\"IBGE-code\", \"IBGE-state-code\", \"IBGE-municipality-code\", \"municipality-name\", \"municipality-state\", \"internacoes\"]],\n",
    "    geometry=municipalities_with_reports[\"geometry\"],\n",
    ")\n",
    "municipalities_with_reports.head(5)"
   ]
  },
  {
   "cell_type": "code",
   "execution_count": 9,
   "id": "f3ee2d7b",
   "metadata": {},
   "outputs": [
    {
     "data": {
      "text/html": [
       "<div>\n",
       "<style scoped>\n",
       "    .dataframe tbody tr th:only-of-type {\n",
       "        vertical-align: middle;\n",
       "    }\n",
       "\n",
       "    .dataframe tbody tr th {\n",
       "        vertical-align: top;\n",
       "    }\n",
       "\n",
       "    .dataframe thead th {\n",
       "        text-align: right;\n",
       "    }\n",
       "</style>\n",
       "<table border=\"1\" class=\"dataframe\">\n",
       "  <thead>\n",
       "    <tr style=\"text-align: right;\">\n",
       "      <th></th>\n",
       "      <th>IBGE-code</th>\n",
       "      <th>IBGE-state-code</th>\n",
       "      <th>IBGE-municipality-code</th>\n",
       "      <th>municipality-state</th>\n",
       "      <th>municipality-name</th>\n",
       "      <th>latitude</th>\n",
       "      <th>longitude</th>\n",
       "      <th>geometry</th>\n",
       "    </tr>\n",
       "  </thead>\n",
       "  <tbody>\n",
       "    <tr>\n",
       "      <th>2</th>\n",
       "      <td>110003</td>\n",
       "      <td>11</td>\n",
       "      <td>0003</td>\n",
       "      <td>Rondônia</td>\n",
       "      <td>Cabixi</td>\n",
       "      <td>-60.63980722186971</td>\n",
       "      <td>-13.474878560170035</td>\n",
       "      <td>POLYGON ((-60.56035 -13.32206, -60.37162 -13.3...</td>\n",
       "    </tr>\n",
       "    <tr>\n",
       "      <th>4</th>\n",
       "      <td>110005</td>\n",
       "      <td>11</td>\n",
       "      <td>0005</td>\n",
       "      <td>Rondônia</td>\n",
       "      <td>Cerejeiras</td>\n",
       "      <td>-61.26095018379903</td>\n",
       "      <td>-13.203561520699402</td>\n",
       "      <td>POLYGON ((-60.82068 -13.11944, -60.81773 -13.1...</td>\n",
       "    </tr>\n",
       "    <tr>\n",
       "      <th>6</th>\n",
       "      <td>110007</td>\n",
       "      <td>11</td>\n",
       "      <td>0007</td>\n",
       "      <td>Rondônia</td>\n",
       "      <td>Corumbiara</td>\n",
       "      <td>-61.09164645391249</td>\n",
       "      <td>-12.926629422648453</td>\n",
       "      <td>POLYGON ((-61.00051 -13.1052, -61.01748 -13.11...</td>\n",
       "    </tr>\n",
       "    <tr>\n",
       "      <th>7</th>\n",
       "      <td>110008</td>\n",
       "      <td>11</td>\n",
       "      <td>0008</td>\n",
       "      <td>Rondônia</td>\n",
       "      <td>Costa Marques</td>\n",
       "      <td>-64.05877173931918</td>\n",
       "      <td>-12.147250102409899</td>\n",
       "      <td>POLYGON ((-64.14378 -12.48169, -64.14578 -12.4...</td>\n",
       "    </tr>\n",
       "    <tr>\n",
       "      <th>23</th>\n",
       "      <td>110033</td>\n",
       "      <td>11</td>\n",
       "      <td>0033</td>\n",
       "      <td>Rondônia</td>\n",
       "      <td>Nova Mamoré</td>\n",
       "      <td>-64.62909951864042</td>\n",
       "      <td>-10.382167455612384</td>\n",
       "      <td>POLYGON ((-64.21185 -10.76905, -64.21829 -10.7...</td>\n",
       "    </tr>\n",
       "  </tbody>\n",
       "</table>\n",
       "</div>"
      ],
      "text/plain": [
       "   IBGE-code IBGE-state-code IBGE-municipality-code municipality-state  \\\n",
       "2     110003              11                   0003           Rondônia   \n",
       "4     110005              11                   0005           Rondônia   \n",
       "6     110007              11                   0007           Rondônia   \n",
       "7     110008              11                   0008           Rondônia   \n",
       "23    110033              11                   0033           Rondônia   \n",
       "\n",
       "   municipality-name            latitude            longitude  \\\n",
       "2             Cabixi  -60.63980722186971  -13.474878560170035   \n",
       "4         Cerejeiras  -61.26095018379903  -13.203561520699402   \n",
       "6         Corumbiara  -61.09164645391249  -12.926629422648453   \n",
       "7      Costa Marques  -64.05877173931918  -12.147250102409899   \n",
       "23       Nova Mamoré  -64.62909951864042  -10.382167455612384   \n",
       "\n",
       "                                             geometry  \n",
       "2   POLYGON ((-60.56035 -13.32206, -60.37162 -13.3...  \n",
       "4   POLYGON ((-60.82068 -13.11944, -60.81773 -13.1...  \n",
       "6   POLYGON ((-61.00051 -13.1052, -61.01748 -13.11...  \n",
       "7   POLYGON ((-64.14378 -12.48169, -64.14578 -12.4...  \n",
       "23  POLYGON ((-64.21185 -10.76905, -64.21829 -10.7...  "
      ]
     },
     "execution_count": 9,
     "metadata": {},
     "output_type": "execute_result"
    }
   ],
   "source": [
    "# Joining the SUS data with the geographical data to get the municipalities without reports\n",
    "municipalities_without_reports = geo_data.copy()\n",
    "\n",
    "municipalities_without_reports = municipalities_without_reports.merge(sus_data, how=\"left\", on=[\"IBGE-code\", \"IBGE-state-code\", \"IBGE-municipality-code\"])\n",
    "municipalities_without_reports = municipalities_without_reports[municipalities_without_reports[\"internacoes\"].isna()]\n",
    "municipalities_without_reports = municipalities_without_reports.drop(columns=[\"internacoes\"])\n",
    "municipalities_without_reports.head(5)"
   ]
  },
  {
   "cell_type": "code",
   "execution_count": 10,
   "id": "e351dbdb",
   "metadata": {},
   "outputs": [],
   "source": [
    "# Saving the dataframes\n",
    "MUNICIPALITIES_WITH_REPORTS_FILE_PATH = \"data/generated/mixed/municipalities_with_reports_jan2024-dec2024.geojson\"\n",
    "MUNICIPALITIES_WITHOUT_REPORTS_FILE_PATH = \"data/generated/mixed/municipalities_without_reports_jan2024-dec2024.geojson\"\n",
    "# Saving the dataframes as GeoJSON files\n",
    "municipalities_with_reports.to_file(MUNICIPALITIES_WITH_REPORTS_FILE_PATH, driver=\"GeoJSON\", encoding=\"utf-8\")\n",
    "municipalities_without_reports.to_file(MUNICIPALITIES_WITHOUT_REPORTS_FILE_PATH, driver=\"GeoJSON\", encoding=\"utf-8\")\n"
   ]
  },
  {
   "cell_type": "markdown",
   "id": "ba586e4f",
   "metadata": {},
   "source": [
    "# Generating Map\n"
   ]
  },
  {
   "cell_type": "code",
   "execution_count": 11,
   "id": "eaf8e3cb",
   "metadata": {},
   "outputs": [],
   "source": [
    "BRAZILIA_CORDINATES = [-15.7801, -47.9292]\n",
    "m = folium.Map(location=BRAZILIA_CORDINATES, zoom_start=4, tiles='cartodb positron', embed=False,)\n",
    "fg = folium.FeatureGroup(name=\"Municipalities with and whitout reports\", show=True)"
   ]
  },
  {
   "cell_type": "code",
   "execution_count": 12,
   "id": "356a5c28",
   "metadata": {},
   "outputs": [
    {
     "data": {
      "text/plain": [
       "<folium.features.GeoJson at 0x1ce9b5cdd30>"
      ]
     },
     "execution_count": 12,
     "metadata": {},
     "output_type": "execute_result"
    }
   ],
   "source": [
    "# Municipalities without reports\n",
    "folium.GeoJson(\n",
    "    municipalities_without_reports[[\"IBGE-code\", \"IBGE-state-code\", \"IBGE-municipality-code\", \"municipality-state\", \"municipality-name\", \"geometry\"]],\n",
    "    name=\"Municipalities without reports\",\n",
    "    style_function=lambda x: {\n",
    "        \"color\": \"black\",\n",
    "        \"weight\": 1,\n",
    "        \"fillOpacity\": 1,\n",
    "        \"fillColor\": \"red\",\n",
    "    },\n",
    "    tooltip=folium.GeoJsonTooltip(\n",
    "        fields=[\"IBGE-code\", \"IBGE-state-code\", \"IBGE-municipality-code\", \"municipality-state\", \"municipality-name\"],\n",
    "        aliases=[\"IBGE code\", \"IBGE state code\", \"IBGE municipality code\", \"Municipality state\", \"Municipality name\"],\n",
    "        localize=True,\n",
    "        sticky=False,\n",
    "        labels=True,\n",
    "        style=\"background-color: white; color: black; font-family: Arial; font-size: 12px; padding: 5px;\",\n",
    "    ),\n",
    ").add_to(fg)"
   ]
  },
  {
   "cell_type": "code",
   "execution_count": 13,
   "id": "60e5a8e8",
   "metadata": {},
   "outputs": [
    {
     "data": {
      "text/plain": [
       "<folium.map.FeatureGroup at 0x1ce9b5cd7f0>"
      ]
     },
     "execution_count": 13,
     "metadata": {},
     "output_type": "execute_result"
    }
   ],
   "source": [
    "# Municipalities with reports\n",
    "folium.GeoJson(\n",
    "    municipalities_with_reports[[\"IBGE-code\", \"IBGE-state-code\", \"IBGE-municipality-code\", \"municipality-state\", \"municipality-name\", \"internacoes\", \"geometry\"]],\n",
    "    name=\"Municipalities with reports\",\n",
    "    style_function=lambda x: {\n",
    "        \"color\": \"black\",\n",
    "        \"weight\": 1,\n",
    "        \"fillOpacity\": 1,\n",
    "        \"fillColor\": \"green\",\n",
    "    },\n",
    "    tooltip=folium.GeoJsonTooltip(\n",
    "        fields=[\"IBGE-code\", \"IBGE-state-code\", \"IBGE-municipality-code\", \"municipality-state\", \"municipality-name\", \"internacoes\"],\n",
    "        aliases=[\"IBGE code\", \"IBGE state code\", \"IBGE municipality code\", \"Municipality state\", \"Municipality name\" , \"Internacoes\"],\n",
    "        localize=True,\n",
    "        sticky=False,\n",
    "        labels=True,\n",
    "        style=\"background-color: white; color: black; font-family: Arial; font-size: 12px; padding: 5px;\",\n",
    "    ),\n",
    ").add_to(fg)\n",
    "fg.add_to(m)"
   ]
  },
  {
   "cell_type": "code",
   "execution_count": 14,
   "id": "caf996c8",
   "metadata": {},
   "outputs": [],
   "source": [
    "# Render the map\n",
    "# m"
   ]
  },
  {
   "cell_type": "code",
   "execution_count": 15,
   "id": "7cf88b0c",
   "metadata": {},
   "outputs": [],
   "source": [
    "MUNICIPALITIES_WITH_AND_WITHOUT_REPORTS_MAP_PATH = \"maps/municipalities_with_and_without_reports_jan2024-dec2024.html\"\n",
    "m.save(MUNICIPALITIES_WITH_AND_WITHOUT_REPORTS_MAP_PATH)"
   ]
  },
  {
   "cell_type": "markdown",
   "id": "1ec8b819",
   "metadata": {},
   "source": [
    "## Generating Choropleth\n"
   ]
  },
  {
   "cell_type": "code",
   "execution_count": 16,
   "id": "8e987ea7",
   "metadata": {},
   "outputs": [],
   "source": [
    "# This is for removing complexity from the map, so we can see the municipalities with reports info and the  map file'll be smaller\n",
    "municipalities_with_reports_simplified = gpd.GeoDataFrame(\n",
    "    municipalities_with_reports[[\"IBGE-code\", \"IBGE-state-code\", \"IBGE-municipality-code\", \"municipality-state\", \"municipality-name\", \"internacoes\"]],\n",
    "    geometry=municipalities_with_reports[\"geometry\"].copy().simplify(tolerance=0.1, preserve_topology=True)\n",
    ")"
   ]
  },
  {
   "cell_type": "code",
   "execution_count": 17,
   "id": "478033c8",
   "metadata": {},
   "outputs": [],
   "source": [
    "m = folium.Map(location=BRAZILIA_CORDINATES, zoom_start=4, tiles='cartodb positron', embed=False,)"
   ]
  },
  {
   "cell_type": "code",
   "execution_count": 18,
   "id": "c4000aed",
   "metadata": {},
   "outputs": [
    {
     "data": {
      "text/plain": [
       "<folium.features.GeoJson at 0x1cea77abd90>"
      ]
     },
     "execution_count": 18,
     "metadata": {},
     "output_type": "execute_result"
    }
   ],
   "source": [
    "# Folium GeoJson for municipalities without reports\n",
    "folium.GeoJson(\n",
    "    municipalities_without_reports[[\"IBGE-code\", \"IBGE-state-code\", \"IBGE-municipality-code\", \"municipality-state\", \"municipality-name\", \"geometry\"]],\n",
    "    name=\"Municipalities without reports\",\n",
    "    style_function=lambda x: {\n",
    "        \"color\": \"gray\",\n",
    "        \"weight\": 1,\n",
    "        \"fillColor\": \"black\",\n",
    "        \"fillOpacity\": 1,\n",
    "        \"line_color\": \"white\",\n",
    "    },\n",
    "    tooltip=folium.GeoJsonTooltip(\n",
    "        fields=[\"IBGE-code\", \"IBGE-state-code\", \"IBGE-municipality-code\", \"municipality-state\", \"municipality-name\"],\n",
    "        aliases=[\"IBGE code\", \"IBGE state code\", \"IBGE municipality code\", \"Municipality state\", \"Municipality name\"],\n",
    "        localize=True,\n",
    "        sticky=False,\n",
    "        labels=True,\n",
    "        style=\"background-color: white; color: black; font-family: Arial; font-size: 12px; padding: 5px;\",\n",
    "    ),\n",
    ").add_to(m)"
   ]
  },
  {
   "cell_type": "code",
   "execution_count": 19,
   "id": "1e1b06c9",
   "metadata": {},
   "outputs": [
    {
     "data": {
      "text/plain": [
       "<folium.features.Choropleth at 0x1ce9b5ce7b0>"
      ]
     },
     "execution_count": 19,
     "metadata": {},
     "output_type": "execute_result"
    }
   ],
   "source": [
    "# Folium Choropleth map for municipalities with reports\n",
    "folium.Choropleth(\n",
    "    name =\"Municipalities with reports - Total Hospitalizations\",\n",
    "    geo_data=municipalities_with_reports[[\"IBGE-code\", \"geometry\"]],\n",
    "    data=municipalities_with_reports[[\"IBGE-code\", \"internacoes\"]],\n",
    "    columns=[\"IBGE-code\", \"internacoes\"],\n",
    "    key_on=\"feature.properties.IBGE-code\",\n",
    "    fill_color=\"YlGn\",\n",
    "    line_opacity=0,\n",
    "    legend_name=\"Hospitalizations\",\n",
    ").add_to(m)"
   ]
  },
  {
   "cell_type": "code",
   "execution_count": 20,
   "id": "a985670b",
   "metadata": {},
   "outputs": [
    {
     "data": {
      "text/plain": [
       "<folium.map.LayerControl at 0x1ce9b5cde80>"
      ]
     },
     "execution_count": 20,
     "metadata": {},
     "output_type": "execute_result"
    }
   ],
   "source": [
    "# Generating a transparent overlay for the municipalities with reports info\n",
    "folium.GeoJson(\n",
    "    municipalities_with_reports_simplified,\n",
    "    name=\"Municipalities with reports overlay\",\n",
    "    style_function=lambda x: {\n",
    "        \"color\": \"black\",\n",
    "        \"weight\": 0,\n",
    "        \"fillOpacity\": 0,\n",
    "        \"fillColor\": \"white\",\n",
    "        \"line_opacity\": 0,\n",
    "    },\n",
    "    tooltip=folium.GeoJsonTooltip(\n",
    "        fields=[\"IBGE-code\", \"IBGE-state-code\", \"IBGE-municipality-code\", \"municipality-state\", \"municipality-name\", \"internacoes\"],\n",
    "        aliases=[\"IBGE code\", \"IBGE state code\", \"IBGE municipality code\", \"Municipality state\", \"Municipality name\" , \"Internacoes\"],\n",
    "        localize=True,\n",
    "        sticky=False,\n",
    "        labels=True,\n",
    "        style=\"background-color: white; color: black; font-family: Arial; font-size: 12px; padding: 5px;\",\n",
    "    ),\n",
    ").add_to(m)\n",
    "folium.LayerControl().add_to(m)"
   ]
  },
  {
   "cell_type": "code",
   "execution_count": 21,
   "id": "5167094b",
   "metadata": {},
   "outputs": [],
   "source": [
    "# Render the map\n",
    "# m"
   ]
  },
  {
   "cell_type": "code",
   "execution_count": 22,
   "id": "8f8b8e55",
   "metadata": {},
   "outputs": [],
   "source": [
    "# Saving the Folium map to an HTML file\n",
    "CHOROPLETH_ABSOLUTE_CASES = \"maps/choropleth_absolute_cases_jan2024-dec2024.html\"\n",
    "m.save(CHOROPLETH_ABSOLUTE_CASES)"
   ]
  },
  {
   "cell_type": "markdown",
   "id": "d467a7d2",
   "metadata": {},
   "source": [
    "# Testing\n"
   ]
  },
  {
   "cell_type": "code",
   "execution_count": 23,
   "id": "d167e792",
   "metadata": {},
   "outputs": [
    {
     "name": "stdout",
     "output_type": "stream",
     "text": [
      "Municipalities with reports: 1904\n",
      "Municipalities without reports: 3668\n",
      "Total municipalities in Brazil: 5572\n",
      "Total municipalities with reports: 1904\n",
      "Total municipalities without reports: 3668\n"
     ]
    }
   ],
   "source": [
    "# Display the number of municipalities with reports and without reports\n",
    "print(f\"Municipalities with reports: {len(municipalities_with_reports)}\")\n",
    "print(f\"Municipalities without reports: {len(municipalities_without_reports)}\")\n",
    "# Display the total number of municipalities in Brazil\n",
    "print(f\"Total municipalities in Brazil: {len(geo_data)}\")\n",
    "print(f\"Total municipalities with reports: {len(municipalities_with_reports)}\")\n",
    "print(f\"Total municipalities without reports: {len(municipalities_without_reports)}\")\n"
   ]
  }
 ],
 "metadata": {
  "kernelspec": {
   "display_name": "Python 3",
   "language": "python",
   "name": "python3"
  },
  "language_info": {
   "codemirror_mode": {
    "name": "ipython",
    "version": 3
   },
   "file_extension": ".py",
   "mimetype": "text/x-python",
   "name": "python",
   "nbconvert_exporter": "python",
   "pygments_lexer": "ipython3",
   "version": "3.13.3"
  }
 },
 "nbformat": 4,
 "nbformat_minor": 5
}
