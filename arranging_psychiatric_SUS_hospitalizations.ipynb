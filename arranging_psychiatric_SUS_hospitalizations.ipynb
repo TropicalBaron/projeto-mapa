{
 "cells": [
  {
   "cell_type": "markdown",
   "metadata": {},
   "source": [
    "# Dependencies\n"
   ]
  },
  {
   "cell_type": "markdown",
   "metadata": {},
   "source": [
    "## Installation\n"
   ]
  },
  {
   "cell_type": "code",
   "execution_count": null,
   "metadata": {},
   "outputs": [],
   "source": [
    "%pip install pip --upgrade -q\n",
    "%pip install pandas -q\n",
    "%pip install numpy -q\n",
    "%pip install matplotlib -q\n",
    "%pip install folium -q\n",
    "%pip install geopy -q\n",
    "%pip install geopandas -q"
   ]
  },
  {
   "cell_type": "markdown",
   "metadata": {},
   "source": [
    "## Importing\n"
   ]
  },
  {
   "cell_type": "code",
   "execution_count": null,
   "metadata": {},
   "outputs": [],
   "source": [
    "import pandas as pd\n",
    "import numpy as np\n",
    "import matplotlib.pyplot as plt\n",
    "import folium\n",
    "import geopandas as gpd"
   ]
  },
  {
   "cell_type": "markdown",
   "metadata": {},
   "source": [
    "# Obtaining Psychiatric hospitalization data\n"
   ]
  },
  {
   "cell_type": "code",
   "execution_count": null,
   "metadata": {},
   "outputs": [],
   "source": [
    "SUS_DATA_FILE_PATH = \"data/sus/mental_diseases_jan2024-dec2024/sih_cnv_nibr102443191_53_138_174.csv\"\n",
    "# Read the CSV file\n",
    "raw_data = pd.read_csv(SUS_DATA_FILE_PATH, encoding=\"latin1\", sep=\";\",header= 4, skipfooter=6, engine='python')\n",
    "raw_data.columns = [\"municipality\", \"hospitalizations\"]"
   ]
  },
  {
   "cell_type": "code",
   "execution_count": null,
   "metadata": {},
   "outputs": [],
   "source": [
    "# Display the first 5 rows of the DataFrame\n",
    "raw_data.head(5)\n"
   ]
  },
  {
   "cell_type": "code",
   "execution_count": null,
   "metadata": {},
   "outputs": [],
   "source": [
    "# Display the last 5 rows of the DataFrame\n",
    "raw_data.tail(5)"
   ]
  },
  {
   "cell_type": "code",
   "execution_count": null,
   "metadata": {},
   "outputs": [],
   "source": [
    "# Separating IBGE code into municipality and state codes\n",
    "# The IBGE code is a unique code for each municipality in Brazil\n",
    "# The first two digits are the state code and the last four digits are the municipality code\n",
    "# For example, the IBGE code for São Paulo is 3550308\n",
    "# The first two digits are 35 (São Paulo state) and the last four digits are 0308 (São Paulo municipality)\n",
    "\n",
    "ibge_code = raw_data[\"municipality\"].apply(lambda x: x.split()[0].strip())\n",
    "ibge_municipality_state_code = ibge_code.apply(lambda x: x[:2])\n",
    "ibge_municipality_code = ibge_code.apply(lambda x: x[2:])"
   ]
  },
  {
   "cell_type": "code",
   "execution_count": null,
   "metadata": {},
   "outputs": [],
   "source": [
    "# Creating a new DataFrame with the relevant columns\n",
    "sus_data = pd.DataFrame({\n",
    "    \"IBGE-code\": ibge_code.astype(str),\n",
    "    \"IBGE-state-code\": ibge_municipality_state_code.astype(str),\n",
    "    \"IBGE-municipality-code\": ibge_municipality_code.astype(str),\n",
    "    \"internacoes\": raw_data[\"hospitalizations\"].astype(int),\n",
    "\n",
    "})\n",
    "# Preview the data\n",
    "sus_data.head(5)"
   ]
  },
  {
   "cell_type": "code",
   "execution_count": null,
   "metadata": {},
   "outputs": [],
   "source": [
    "# Saving the processed data to a CSV file\n",
    "GENERATED_SUS_DATA_FILE_PATH = \"./data/generated/sus/mental_diseases_jan2024-dec2024.csv\"\n",
    "sus_data.to_csv(GENERATED_SUS_DATA_FILE_PATH, index=False, sep=\";\", encoding=\"utf-8\")"
   ]
  }
 ],
 "metadata": {
  "kernelspec": {
   "display_name": "Python 3",
   "language": "python",
   "name": "python3"
  },
  "language_info": {
   "codemirror_mode": {
    "name": "ipython",
    "version": 3
   },
   "file_extension": ".py",
   "mimetype": "text/x-python",
   "name": "python",
   "nbconvert_exporter": "python",
   "pygments_lexer": "ipython3",
   "version": "3.13.3"
  }
 },
 "nbformat": 4,
 "nbformat_minor": 2
}
