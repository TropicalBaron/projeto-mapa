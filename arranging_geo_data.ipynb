{
 "cells": [
  {
   "cell_type": "markdown",
   "metadata": {},
   "source": [
    "# Dependencies"
   ]
  },
  {
   "cell_type": "markdown",
   "metadata": {},
   "source": [
    "## Installation"
   ]
  },
  {
   "cell_type": "code",
   "execution_count": null,
   "metadata": {},
   "outputs": [],
   "source": [
    "%pip install pip --upgrade -q\n",
    "%pip install pandas -q\n",
    "%pip install numpy -q\n",
    "%pip install matplotlib -q\n",
    "%pip install folium -q\n",
    "%pip install geopy -q\n",
    "%pip install geopandas -q"
   ]
  },
  {
   "cell_type": "markdown",
   "metadata": {},
   "source": [
    "## Importing"
   ]
  },
  {
   "cell_type": "code",
   "execution_count": null,
   "metadata": {},
   "outputs": [],
   "source": [
    "import pandas as pd\n",
    "import folium\n",
    "import geopandas as gpd"
   ]
  },
  {
   "cell_type": "markdown",
   "metadata": {},
   "source": [
    "# Obtaining Brazilian Municipalities Geo Data"
   ]
  },
  {
   "cell_type": "code",
   "execution_count": null,
   "metadata": {},
   "outputs": [],
   "source": [
    "EPSG_CODE_FOR_FOLIUM = 4326\n",
    "ORIGINAL_GEO_DATA_FILE_PATH = \"data/geo/BR_Municipios_2023/BR_Municipios_2023.shp\"\n",
    "municipality_geo_file = gpd.read_file(ORIGINAL_GEO_DATA_FILE_PATH)\n",
    "municipality_geo_file = municipality_geo_file"
   ]
  },
  {
   "cell_type": "code",
   "execution_count": null,
   "metadata": {},
   "outputs": [],
   "source": [
    "# Getting municipalities centroid's lats and longitudes\n",
    "geo_data_latitudes = municipality_geo_file.to_crs(epsg=EPSG_CODE_FOR_FOLIUM).geometry.centroid.x.astype(str)\n",
    "geo_data_longitudes = municipality_geo_file.to_crs(epsg=EPSG_CODE_FOR_FOLIUM).geometry.centroid.y.astype(str)\n",
    "\n",
    "# Excluding the last digit of the IBGE code, which is the verification digit\n",
    "geo_ibge_code = municipality_geo_file[\"CD_MUN\"].apply(lambda x: x.strip()[:6])\n",
    "\n",
    "# Getting the geometry of the municipalities\n",
    "geo_geometry = municipality_geo_file[\"geometry\"].simplify(tolerance=0.001).to_crs(epsg=EPSG_CODE_FOR_FOLIUM)\n"
   ]
  },
  {
   "cell_type": "code",
   "execution_count": null,
   "metadata": {},
   "outputs": [],
   "source": [
    "# Creating a GeoDataFrame with the relevant data for the municipalities plot\n",
    "geo_data = pd.DataFrame({\n",
    "    \"IBGE-code\": geo_ibge_code,\n",
    "    \"IBGE-state-code\": geo_ibge_code.apply(lambda x: x[:2]),\n",
    "    \"IBGE-municipality-code\": geo_ibge_code.apply(lambda x: x[2:]),\n",
    "    \"municipality-state\": municipality_geo_file[\"NM_UF\"].astype(str),\n",
    "    \"municipality-name\": municipality_geo_file[\"NM_MUN\"].astype(str),\n",
    "    \"latitude\": geo_data_latitudes,\n",
    "    \"longitude\": geo_data_longitudes\n",
    "})            \n",
    "\n",
    "# Preview\n",
    "geo_data.head(5)"
   ]
  },
  {
   "cell_type": "code",
   "execution_count": null,
   "metadata": {},
   "outputs": [],
   "source": [
    "# Saving the GeoDataFrame to a GeoJSON file\n",
    "GENERATED_GEO_DATA_FILE_PATH = \"./data/generated/geo/municipalities_geodata.geojson\"\n",
    "geo_data = gpd.GeoDataFrame(geo_data, geometry=geo_geometry, crs=EPSG_CODE_FOR_FOLIUM)\n",
    "geo_data.to_file(GENERATED_GEO_DATA_FILE_PATH, driver='GeoJSON', encoding='utf-8')"
   ]
  },
  {
   "cell_type": "code",
   "execution_count": null,
   "metadata": {},
   "outputs": [],
   "source": [
    "# File preview\n",
    "geo_data = gpd.read_file(GENERATED_GEO_DATA_FILE_PATH)\n",
    "geo_data.head(5)"
   ]
  },
  {
   "cell_type": "code",
   "execution_count": null,
   "metadata": {},
   "outputs": [],
   "source": [
    "#Preview Folium map\n",
    "BRAZILIA_CORDINATES = [-15.7801, -47.9292]\n",
    "m = folium.Map(location=BRAZILIA_CORDINATES, zoom_start=4, tiles='cartodb positron')\n",
    "folium.GeoJson(\n",
    "    geo_data,\n",
    "    name=\"All Municipalities\",\n",
    "    style_function=lambda x: {\n",
    "        \"color\": \"black\",\n",
    "        \"weight\": 1,\n",
    "        \"fillOpacity\": 1,\n",
    "        \"fillColor\": \"white\",\n",
    "    },\n",
    "    tooltip=folium.GeoJsonTooltip(\n",
    "        fields=[\"IBGE-code\", \"IBGE-state-code\", \"IBGE-municipality-code\", \"municipality-state\", \"municipality-name\"],\n",
    "        aliases=[\"IBGE code\", \"IBGE state code\", \"IBGE municipality code\", \"Municipality state\", \"Municipality name\"],\n",
    "        localize=True,\n",
    "        sticky=False,\n",
    "        labels=True,\n",
    "        style=\"background-color: white; color: black; font-family: Arial; font-size: 12px; padding: 5px;\",\n",
    "    ),\n",
    ").add_to(m)\n",
    "folium.LayerControl().add_to(m)\n",
    "\n",
    "m"
   ]
  }
 ],
 "metadata": {
  "kernelspec": {
   "display_name": "Python 3",
   "language": "python",
   "name": "python3"
  },
  "language_info": {
   "codemirror_mode": {
    "name": "ipython",
    "version": 3
   },
   "file_extension": ".py",
   "mimetype": "text/x-python",
   "name": "python",
   "nbconvert_exporter": "python",
   "pygments_lexer": "ipython3",
   "version": "3.13.3"
  }
 },
 "nbformat": 4,
 "nbformat_minor": 2
}
